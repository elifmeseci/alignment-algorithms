{
 "cells": [
  {
   "cell_type": "code",
   "execution_count": 14,
   "id": "27fa6a05",
   "metadata": {},
   "outputs": [],
   "source": [
    "# pip install swalign\n",
    "# pip install alignment"
   ]
  },
  {
   "cell_type": "code",
   "execution_count": 13,
   "id": "204d7cd3",
   "metadata": {},
   "outputs": [
    {
     "name": "stdout",
     "output_type": "stream",
     "text": [
      "Query:  1 EX-ECUTION 9\n",
      "          || | .||||\n",
      "Ref  :  1 EXTE-NTION 9\n",
      "\n",
      "Score: 14\n",
      "Matches: 7 (70.0%)\n",
      "Mismatches: 3\n",
      "CIGAR: 2M1D1M1I5M\n"
     ]
    }
   ],
   "source": [
    "import swalign \n",
    "# values 2 and -1 are common. \n",
    "match = 3 \n",
    "mismatch = -3 \n",
    "scoring = swalign.NucleotideScoringMatrix(match, mismatch)\n",
    "\n",
    "sw = swalign.LocalAlignment(scoring, gap_penalty=-2) # you can also choose gap penalties, etc… \n",
    "alignment = sw.align('EXTENTION','EXECUTION') \n",
    "alignment.dump()"
   ]
  },
  {
   "cell_type": "code",
   "execution_count": 5,
   "id": "014e6ffd",
   "metadata": {},
   "outputs": [
    {
     "name": "stdout",
     "output_type": "stream",
     "text": [
      "what a -               beautiful day\n",
      "what a disappointingly bad       day\n",
      "Alignment score: 3\n",
      "Percent identity: 60.0\n"
     ]
    }
   ],
   "source": [
    "from alignment.sequence import Sequence\n",
    "from alignment.vocabulary import Vocabulary\n",
    "from alignment.sequencealigner import SimpleScoring, GlobalSequenceAligner\n",
    "\n",
    "# Create sequences to be aligned.\n",
    "a = Sequence('what a beautiful day'.split())\n",
    "b = Sequence('what a disappointingly bad day'.split())\n",
    "\n",
    "# Create a vocabulary and encode the sequences.\n",
    "v = Vocabulary()\n",
    "aEncoded = v.encodeSequence(a)\n",
    "bEncoded = v.encodeSequence(b)\n",
    "\n",
    "# Create a scoring and align the sequences using global aligner.\n",
    "scoring = SimpleScoring(2, -1)\n",
    "aligner = GlobalSequenceAligner(scoring, -2)\n",
    "score, encodeds = aligner.align(aEncoded, bEncoded, backtrace=True)\n",
    "\n",
    "# Iterate over optimal alignments and print them.\n",
    "for encoded in encodeds:\n",
    "    alignment = v.decodeSequenceAlignment(encoded)\n",
    "    print(alignment)\n",
    "    print('Alignment score:', alignment.score)\n",
    "    print('Percent identity:', alignment.percentIdentity())"
   ]
  }
 ],
 "metadata": {
  "kernelspec": {
   "display_name": "Python 3 (ipykernel)",
   "language": "python",
   "name": "python3"
  },
  "language_info": {
   "codemirror_mode": {
    "name": "ipython",
    "version": 3
   },
   "file_extension": ".py",
   "mimetype": "text/x-python",
   "name": "python",
   "nbconvert_exporter": "python",
   "pygments_lexer": "ipython3",
   "version": "3.11.5"
  }
 },
 "nbformat": 4,
 "nbformat_minor": 5
}
